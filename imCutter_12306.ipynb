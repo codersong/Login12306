{
 "cells": [
  {
   "cell_type": "code",
   "execution_count": 3,
   "metadata": {
    "collapsed": true
   },
   "outputs": [
    {
     "name": "stdout",
     "output_type": "stream",
     "text": [
      "初始化成功\n更新IP池成功...\n抓取验证码中.....\n{'http': 'https://118.190.95.43'}\n"
     ]
    },
    {
     "name": "stdout",
     "output_type": "stream",
     "text": [
      "{'http': 'https://118.190.95.35'}\n"
     ]
    },
    {
     "name": "stdout",
     "output_type": "stream",
     "text": [
      "{'http': 'https://106.75.225.83'}\n"
     ]
    },
    {
     "name": "stdout",
     "output_type": "stream",
     "text": [
      "{'http': 'https://106.75.226.36'}\n"
     ]
    },
    {
     "name": "stdout",
     "output_type": "stream",
     "text": [
      "{'http': 'https://61.135.217.7'}\n"
     ]
    },
    {
     "name": "stdout",
     "output_type": "stream",
     "text": [
      "{'http': 'https://113.122.3.247'}\n"
     ]
    },
    {
     "name": "stdout",
     "output_type": "stream",
     "text": [
      "{'http': 'https://116.1.11.19'}\n"
     ]
    },
    {
     "name": "stdout",
     "output_type": "stream",
     "text": [
      "{'http': 'https://123.249.88.153'}\n"
     ]
    },
    {
     "name": "stdout",
     "output_type": "stream",
     "text": [
      "{'http': 'https://171.35.65.3'}\n"
     ]
    },
    {
     "name": "stdout",
     "output_type": "stream",
     "text": [
      "{'http': 'https://115.225.74.53'}\n"
     ]
    },
    {
     "name": "stdout",
     "output_type": "stream",
     "text": [
      "{'http': 'https://122.96.93.158'}\n"
     ]
    },
    {
     "name": "stdout",
     "output_type": "stream",
     "text": [
      "{'http': 'https://110.202.64.92'}\n"
     ]
    },
    {
     "name": "stdout",
     "output_type": "stream",
     "text": [
      "successed\n"
     ]
    },
    {
     "name": "stdout",
     "output_type": "stream",
     "text": [
      "{'http': 'https://222.94.148.207'}\n"
     ]
    },
    {
     "name": "stdout",
     "output_type": "stream",
     "text": [
      "{'http': 'https://59.32.37.234'}\n"
     ]
    },
    {
     "name": "stdout",
     "output_type": "stream",
     "text": [
      "{'http': 'https://219.234.181.194'}\n"
     ]
    },
    {
     "name": "stdout",
     "output_type": "stream",
     "text": [
      "{'http': 'https://121.69.105.238'}\n"
     ]
    },
    {
     "name": "stdout",
     "output_type": "stream",
     "text": [
      "{'http': 'https://218.59.228.18'}\n"
     ]
    },
    {
     "name": "stdout",
     "output_type": "stream",
     "text": [
      "{'http': 'https://106.56.102.123'}\n"
     ]
    },
    {
     "name": "stdout",
     "output_type": "stream",
     "text": [
      "{'http': 'https://118.190.217.182'}\n"
     ]
    },
    {
     "name": "stdout",
     "output_type": "stream",
     "text": [
      "{'http': 'https://175.25.185.57'}\n"
     ]
    }
   ],
   "source": [
    "# utf-8 __*__\n",
    "import requests\n",
    "import re\n",
    "from bs4 import BeautifulSoup\n",
    "import time\n",
    "import random\n",
    "import urllib,urllib3\n",
    "from PIL import Image\n",
    "import matplotlib.pyplot as plt\n",
    "from io import BytesIO\n",
    "import sys\n",
    "\n",
    "\n",
    "def getIPPool(ip_url):\n",
    "    '''\n",
    "    从网站获取动态IP\n",
    "    :param ip_url: 获取IP地址的服务器\n",
    "    :return: 以字典的方式返回IP池\n",
    "    '''\n",
    "    ip_response = requests.get(ip_url, headers=headers).text\n",
    "    ip_soup = BeautifulSoup(ip_response, 'lxml')\n",
    "    tag_tr = ip_soup.find_all('tr')\n",
    "    IPPool = []\n",
    "\n",
    "    for tr in tag_tr:\n",
    "        ip_info = {\n",
    "            'ip1': '',\n",
    "            'port2': '',\n",
    "            'location3': '',\n",
    "            'type5': '',\n",
    "            'live_time6': '',\n",
    "            'verify_time7': ''\n",
    "        }\n",
    "\n",
    "        if len(tr.find_all('td')) == 8:\n",
    "            try:\n",
    "                #print(tr.find_all('td'))\n",
    "                ip_info['ip1'] = tr.find_all('td')[1].contents[0]\n",
    "                ip_info['port2'] = tr.find_all('td')[2].contents[0]\n",
    "                ip_info['location3'] = tr.find_all('td')[3].contents[0]\n",
    "                ip_info['type5'] = tr.find_all('td')[5].contents[0]\n",
    "                ip_info['live_time6'] = tr.find_all('td')[6].contents[0]\n",
    "                ip_info['verify_time7'] = tr.find_all('td')[7].contents[0]\n",
    "                IPPool.append(ip_info)\n",
    "            except:\n",
    "                pass\n",
    "    return IPPool\n",
    "\n",
    "def saveCaptch(IPPool):\n",
    "    for ip in IPPool:\n",
    "        proxies = {\n",
    "            'http': 'https://'+ip['ip1']\n",
    "        }\n",
    "        print(proxies)\n",
    "        try:\n",
    "            r = requests.get(captcha_12306, headers=headers, proxies=proxies,timeout = 5)\n",
    "            if r.status_code == 200:\n",
    "                image = Image.open(BytesIO(r.content))\n",
    "                image.save(r'F:\\\\12306\\\\' + time.strftime(\"%Y%m%d %H%M%S\",time.localtime()) + '.png')\n",
    "                #image.show()\n",
    "                print('successed')\n",
    "                time.sleep(1)\n",
    "            else:\n",
    "                continue\n",
    "        except:\n",
    "            #print(\"******\")\n",
    "            pass\n",
    "\n",
    "if __name__ == '__main__':\n",
    "    test_url = 'https://www.baidu.com/'\n",
    "    ip_url = 'http://www.xicidaili.com/'\n",
    "    captcha_12306 = 'https://kyfw.12306.cn/passport/captcha/captcha-image'\n",
    "    headers = {'User-Agent': 'Mozilla/5.0 (Windows NT 6.1; WOW64)\\\n",
    "        AppleWebKit/537.36 (KHTML, like Gecko) Chrome/41.0.2272.118 Safari/537.36', }\n",
    "    counter = 0\n",
    "    print(u'初始化成功')\n",
    "    while True:\n",
    "        IPPool = getIPPool(ip_url=ip_url)\n",
    "        print(u'更新IP池成功...')\n",
    "        for i in range(5):\n",
    "            print(u'抓取验证码中.....')\n",
    "            saveCaptch(IPPool=IPPool)\n",
    "            print(counter)\n",
    "            counter += 1\n",
    "\n",
    "\n",
    "\n",
    "\n",
    "\n",
    "\n"
   ]
  },
  {
   "cell_type": "code",
   "execution_count": 3,
   "metadata": {},
   "outputs": [],
   "source": []
  },
  {
   "cell_type": "code",
   "execution_count": null,
   "metadata": {},
   "outputs": [],
   "source": []
  }
 ],
 "metadata": {
  "kernelspec": {
   "display_name": "Python 2",
   "language": "python",
   "name": "python2"
  },
  "language_info": {
   "codemirror_mode": {
    "name": "ipython",
    "version": 2
   },
   "file_extension": ".py",
   "mimetype": "text/x-python",
   "name": "python",
   "nbconvert_exporter": "python",
   "pygments_lexer": "ipython2",
   "version": "2.7.6"
  }
 },
 "nbformat": 4,
 "nbformat_minor": 0
}
